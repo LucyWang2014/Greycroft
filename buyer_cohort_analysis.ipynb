{
 "cells": [
  {
   "cell_type": "code",
   "execution_count": 1,
   "metadata": {
    "collapsed": true
   },
   "outputs": [],
   "source": [
    "#import libraries to use\n",
    "import pandas as pd\n",
    "import numpy as np"
   ]
  },
  {
   "cell_type": "code",
   "execution_count": 29,
   "metadata": {
    "collapsed": false
   },
   "outputs": [],
   "source": [
    "#import the respective data as a dataframe\n",
    "data = pd.read_csv('buyers_RAW.csv',low_memory = False)"
   ]
  },
  {
   "cell_type": "code",
   "execution_count": 30,
   "metadata": {
    "collapsed": false
   },
   "outputs": [
    {
     "data": {
      "text/html": [
       "<div>\n",
       "<table border=\"1\" class=\"dataframe\">\n",
       "  <thead>\n",
       "    <tr style=\"text-align: right;\">\n",
       "      <th></th>\n",
       "      <th>month</th>\n",
       "      <th>year</th>\n",
       "      <th>user_id</th>\n",
       "      <th>currency</th>\n",
       "      <th>count</th>\n",
       "      <th>revenue</th>\n",
       "      <th>Date</th>\n",
       "      <th>USD</th>\n",
       "      <th>Per Purchase</th>\n",
       "    </tr>\n",
       "  </thead>\n",
       "  <tbody>\n",
       "    <tr>\n",
       "      <th>0</th>\n",
       "      <td>6</td>\n",
       "      <td>2015</td>\n",
       "      <td>1154979</td>\n",
       "      <td>GBP</td>\n",
       "      <td>2</td>\n",
       "      <td>37.29</td>\n",
       "      <td>20156</td>\n",
       "      <td>55.94</td>\n",
       "      <td>27.97</td>\n",
       "    </tr>\n",
       "    <tr>\n",
       "      <th>1</th>\n",
       "      <td>10</td>\n",
       "      <td>2015</td>\n",
       "      <td>2677378</td>\n",
       "      <td>GBP</td>\n",
       "      <td>1</td>\n",
       "      <td>17</td>\n",
       "      <td>201510</td>\n",
       "      <td>25.50</td>\n",
       "      <td>25.5</td>\n",
       "    </tr>\n",
       "    <tr>\n",
       "      <th>2</th>\n",
       "      <td>9</td>\n",
       "      <td>2015</td>\n",
       "      <td>546489</td>\n",
       "      <td>GBP</td>\n",
       "      <td>3</td>\n",
       "      <td>118.5</td>\n",
       "      <td>20159</td>\n",
       "      <td>177.76</td>\n",
       "      <td>59.25</td>\n",
       "    </tr>\n",
       "    <tr>\n",
       "      <th>3</th>\n",
       "      <td>8</td>\n",
       "      <td>2015</td>\n",
       "      <td>846185</td>\n",
       "      <td>GBP</td>\n",
       "      <td>4</td>\n",
       "      <td>66.79</td>\n",
       "      <td>20158</td>\n",
       "      <td>100.19</td>\n",
       "      <td>25.05</td>\n",
       "    </tr>\n",
       "    <tr>\n",
       "      <th>4</th>\n",
       "      <td>6</td>\n",
       "      <td>2015</td>\n",
       "      <td>2099822</td>\n",
       "      <td>GBP</td>\n",
       "      <td>2</td>\n",
       "      <td>29.98</td>\n",
       "      <td>20156</td>\n",
       "      <td>44.97</td>\n",
       "      <td>22.49</td>\n",
       "    </tr>\n",
       "  </tbody>\n",
       "</table>\n",
       "</div>"
      ],
      "text/plain": [
       "   month  year  user_id currency  count revenue    Date     USD Per Purchase\n",
       "0      6  2015  1154979      GBP      2   37.29   20156   55.94        27.97\n",
       "1     10  2015  2677378      GBP      1      17  201510   25.50         25.5\n",
       "2      9  2015   546489      GBP      3   118.5   20159  177.76        59.25\n",
       "3      8  2015   846185      GBP      4   66.79   20158  100.19        25.05\n",
       "4      6  2015  2099822      GBP      2   29.98   20156   44.97        22.49"
      ]
     },
     "execution_count": 30,
     "metadata": {},
     "output_type": "execute_result"
    }
   ],
   "source": [
    "#check out the first 5 rows of data, head defaults to 5, you can also do buyer_data.head(10) to show 10 rows, etc.\n",
    "data.head()"
   ]
  },
  {
   "cell_type": "code",
   "execution_count": 31,
   "metadata": {
    "collapsed": false
   },
   "outputs": [],
   "source": [
    "#group the data by user_id and then take the minimum of month to get their cohort,\n",
    "#as_index = False indicates that you don't want the user_id to be the index of the result\n",
    "#it should be a column of its own\n",
    "cohort = data.groupby('user_id',as_index = False)['month'].min()"
   ]
  },
  {
   "cell_type": "code",
   "execution_count": 32,
   "metadata": {
    "collapsed": true
   },
   "outputs": [],
   "source": [
    "#change the cohort object to a dataframe so it can be merged with buyer_data\n",
    "cohort = pd.DataFrame(cohort)"
   ]
  },
  {
   "cell_type": "code",
   "execution_count": 33,
   "metadata": {
    "collapsed": false
   },
   "outputs": [],
   "source": [
    "#merge the two dataframes, left_on and right_on indicates which column to match the two\n",
    "df = pd.merge(data,cohort,left_on = 'user_id', right_on = 'user_id')"
   ]
  },
  {
   "cell_type": "code",
   "execution_count": 34,
   "metadata": {
    "collapsed": true
   },
   "outputs": [],
   "source": [
    "#reset the name of the columns for clarity, when you merge, the columns are just named month_x and \n",
    "#month_y instead of month and cohort\n",
    "df.columns = ['month','year','user_id','currency','count','revenue','Date','USD',\n",
    "               'Per Purchase','cohort']"
   ]
  },
  {
   "cell_type": "code",
   "execution_count": 35,
   "metadata": {
    "collapsed": false
   },
   "outputs": [
    {
     "data": {
      "text/html": [
       "<div>\n",
       "<table border=\"1\" class=\"dataframe\">\n",
       "  <thead>\n",
       "    <tr style=\"text-align: right;\">\n",
       "      <th></th>\n",
       "      <th>month</th>\n",
       "      <th>year</th>\n",
       "      <th>user_id</th>\n",
       "      <th>currency</th>\n",
       "      <th>count</th>\n",
       "      <th>revenue</th>\n",
       "      <th>Date</th>\n",
       "      <th>USD</th>\n",
       "      <th>Per Purchase</th>\n",
       "      <th>cohort</th>\n",
       "    </tr>\n",
       "  </thead>\n",
       "  <tbody>\n",
       "    <tr>\n",
       "      <th>0</th>\n",
       "      <td>6</td>\n",
       "      <td>2015</td>\n",
       "      <td>1154979</td>\n",
       "      <td>GBP</td>\n",
       "      <td>2</td>\n",
       "      <td>37.29</td>\n",
       "      <td>20156</td>\n",
       "      <td>55.94</td>\n",
       "      <td>27.97</td>\n",
       "      <td>5</td>\n",
       "    </tr>\n",
       "    <tr>\n",
       "      <th>1</th>\n",
       "      <td>5</td>\n",
       "      <td>2015</td>\n",
       "      <td>1154979</td>\n",
       "      <td>GBP</td>\n",
       "      <td>2</td>\n",
       "      <td>10</td>\n",
       "      <td>20155</td>\n",
       "      <td>15.00</td>\n",
       "      <td>7.5</td>\n",
       "      <td>5</td>\n",
       "    </tr>\n",
       "    <tr>\n",
       "      <th>2</th>\n",
       "      <td>10</td>\n",
       "      <td>2015</td>\n",
       "      <td>2677378</td>\n",
       "      <td>GBP</td>\n",
       "      <td>1</td>\n",
       "      <td>17</td>\n",
       "      <td>201510</td>\n",
       "      <td>25.50</td>\n",
       "      <td>25.5</td>\n",
       "      <td>10</td>\n",
       "    </tr>\n",
       "    <tr>\n",
       "      <th>3</th>\n",
       "      <td>9</td>\n",
       "      <td>2015</td>\n",
       "      <td>546489</td>\n",
       "      <td>GBP</td>\n",
       "      <td>3</td>\n",
       "      <td>118.5</td>\n",
       "      <td>20159</td>\n",
       "      <td>177.76</td>\n",
       "      <td>59.25</td>\n",
       "      <td>8</td>\n",
       "    </tr>\n",
       "    <tr>\n",
       "      <th>4</th>\n",
       "      <td>8</td>\n",
       "      <td>2015</td>\n",
       "      <td>546489</td>\n",
       "      <td>GBP</td>\n",
       "      <td>1</td>\n",
       "      <td>17.8</td>\n",
       "      <td>20158</td>\n",
       "      <td>26.70</td>\n",
       "      <td>26.7</td>\n",
       "      <td>8</td>\n",
       "    </tr>\n",
       "  </tbody>\n",
       "</table>\n",
       "</div>"
      ],
      "text/plain": [
       "   month  year  user_id currency  count revenue    Date     USD Per Purchase  \\\n",
       "0      6  2015  1154979      GBP      2   37.29   20156   55.94        27.97   \n",
       "1      5  2015  1154979      GBP      2      10   20155   15.00          7.5   \n",
       "2     10  2015  2677378      GBP      1      17  201510   25.50         25.5   \n",
       "3      9  2015   546489      GBP      3   118.5   20159  177.76        59.25   \n",
       "4      8  2015   546489      GBP      1    17.8   20158   26.70         26.7   \n",
       "\n",
       "   cohort  \n",
       "0       5  \n",
       "1       5  \n",
       "2      10  \n",
       "3       8  \n",
       "4       8  "
      ]
     },
     "execution_count": 35,
     "metadata": {},
     "output_type": "execute_result"
    }
   ],
   "source": [
    "#check to make sure merge was successful\n",
    "df.head()"
   ]
  },
  {
   "cell_type": "code",
   "execution_count": 36,
   "metadata": {
    "collapsed": true
   },
   "outputs": [],
   "source": [
    "#to get monthly revenue by cohort, group by cohort and month, then sum the USD column\n",
    "cohort_revenue = df.groupby(['cohort','month'],as_index = False)['USD'].sum()"
   ]
  },
  {
   "cell_type": "code",
   "execution_count": 37,
   "metadata": {
    "collapsed": false
   },
   "outputs": [],
   "source": [
    "#sort the value by cohort and month if you want, cohort 1 should have month 1-10, 2 should have month 2-10...etc.\n",
    "cohort_revenue = cohort_revenue.sort_values(by=['cohort','month'])"
   ]
  },
  {
   "cell_type": "code",
   "execution_count": 38,
   "metadata": {
    "collapsed": false
   },
   "outputs": [
    {
     "data": {
      "text/html": [
       "<div>\n",
       "<table border=\"1\" class=\"dataframe\">\n",
       "  <thead>\n",
       "    <tr style=\"text-align: right;\">\n",
       "      <th></th>\n",
       "      <th>cohort</th>\n",
       "      <th>month</th>\n",
       "      <th>USD</th>\n",
       "    </tr>\n",
       "  </thead>\n",
       "  <tbody>\n",
       "    <tr>\n",
       "      <th>0</th>\n",
       "      <td>1</td>\n",
       "      <td>1</td>\n",
       "      <td>1166403.69</td>\n",
       "    </tr>\n",
       "    <tr>\n",
       "      <th>1</th>\n",
       "      <td>1</td>\n",
       "      <td>2</td>\n",
       "      <td>471882.58</td>\n",
       "    </tr>\n",
       "    <tr>\n",
       "      <th>2</th>\n",
       "      <td>1</td>\n",
       "      <td>3</td>\n",
       "      <td>436972.20</td>\n",
       "    </tr>\n",
       "    <tr>\n",
       "      <th>3</th>\n",
       "      <td>1</td>\n",
       "      <td>4</td>\n",
       "      <td>382938.63</td>\n",
       "    </tr>\n",
       "    <tr>\n",
       "      <th>4</th>\n",
       "      <td>1</td>\n",
       "      <td>5</td>\n",
       "      <td>387836.70</td>\n",
       "    </tr>\n",
       "  </tbody>\n",
       "</table>\n",
       "</div>"
      ],
      "text/plain": [
       "   cohort  month         USD\n",
       "0       1      1  1166403.69\n",
       "1       1      2   471882.58\n",
       "2       1      3   436972.20\n",
       "3       1      4   382938.63\n",
       "4       1      5   387836.70"
      ]
     },
     "execution_count": 38,
     "metadata": {},
     "output_type": "execute_result"
    }
   ],
   "source": [
    "#check the result\n",
    "cohort_revenue.head()"
   ]
  },
  {
   "cell_type": "code",
   "execution_count": 39,
   "metadata": {
    "collapsed": false
   },
   "outputs": [],
   "source": [
    "#get monthly uniques by cohort, group by cohort and month, then add up the unique users\n",
    "cohort_uniques = df.groupby(['cohort','month'],as_index = False).apply(lambda row: row.user_id.nunique())"
   ]
  },
  {
   "cell_type": "code",
   "execution_count": 40,
   "metadata": {
    "collapsed": false,
    "scrolled": true
   },
   "outputs": [
    {
     "data": {
      "text/plain": [
       "cohort  month\n",
       "1       1        26381\n",
       "        2         9639\n",
       "        3         8950\n",
       "        4         7955\n",
       "        5         7846\n",
       "dtype: int64"
      ]
     },
     "execution_count": 40,
     "metadata": {},
     "output_type": "execute_result"
    }
   ],
   "source": [
    "#check out the first few rows\n",
    "cohort_uniques.head()"
   ]
  },
  {
   "cell_type": "code",
   "execution_count": 41,
   "metadata": {
    "collapsed": false
   },
   "outputs": [],
   "source": [
    "#save analysis to csv\n",
    "cohort_uniques = pd.DataFrame(cohort_uniques)\n",
    "cohort_uniques.columns = ['uniques']\n",
    "cohort_uniques.to_csv('buyers_uniques.csv')\n",
    "cohort_revenue.to_csv('buyers_revenue.csv')"
   ]
  },
  {
   "cell_type": "code",
   "execution_count": null,
   "metadata": {
    "collapsed": true
   },
   "outputs": [],
   "source": []
  }
 ],
 "metadata": {
  "kernelspec": {
   "display_name": "Python 2",
   "language": "python",
   "name": "python2"
  },
  "language_info": {
   "codemirror_mode": {
    "name": "ipython",
    "version": 2
   },
   "file_extension": ".py",
   "mimetype": "text/x-python",
   "name": "python",
   "nbconvert_exporter": "python",
   "pygments_lexer": "ipython2",
   "version": "2.7.10"
  }
 },
 "nbformat": 4,
 "nbformat_minor": 0
}
